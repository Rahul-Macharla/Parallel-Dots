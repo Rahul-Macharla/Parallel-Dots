{
 "cells": [
  {
   "cell_type": "code",
   "execution_count": 1,
   "metadata": {},
   "outputs": [],
   "source": [
    "from keras.preprocessing import image\n",
    "from keras.preprocessing.image import ImageDataGenerator, array_to_img, img_to_array, load_img"
   ]
  },
  {
   "cell_type": "code",
   "execution_count": 8,
   "metadata": {},
   "outputs": [],
   "source": [
    "# prepare data augmentation configuration\n",
    "datagen = ImageDataGenerator(\n",
    "        featurewise_center=True,\n",
    "        featurewise_std_normalization=True,\n",
    "        width_shift_range=0.2,\n",
    "        height_shift_range=0.2,\n",
    "        rotation_range=50,\n",
    "        zoom_range=0.2,\n",
    "        vertical_flip=True,\n",
    "        horizontal_flip=True,\n",
    "        fill_mode='nearest')\n",
    "\n",
    "img=load_img(r\"D:\\DATA SCIENCE\\DataSets\\Research\\Parallel Dots\\Train\\5\\db2936.jpg\")\n",
    "x=img_to_array(img)\n",
    "x=x.reshape((1,) + x.shape)\n",
    "\n",
    "\n",
    "i=0\n",
    "for batch in datagen.flow(x, batch_size=1, save_to_dir='Augmentations', save_format='jpg'):\n",
    "    i += 1\n",
    "    if i > 20:\n",
    "        break\n",
    "# create a folder called augmentations to store the augmented images.        "
   ]
  },
  {
   "cell_type": "code",
   "execution_count": 9,
   "metadata": {},
   "outputs": [],
   "source": [
    "# prepare data augmentation configuration\n",
    "datagen = ImageDataGenerator(\n",
    "        featurewise_center=True,\n",
    "        featurewise_std_normalization=True,\n",
    "        width_shift_range=0.2,\n",
    "        height_shift_range=0.2,\n",
    "        rotation_range=50,\n",
    "        zoom_range=0.2,\n",
    "        vertical_flip=True,\n",
    "        horizontal_flip=True,\n",
    "        fill_mode='nearest')\n",
    "\n",
    "img=load_img(r\"D:\\DATA SCIENCE\\DataSets\\Research\\Parallel Dots\\Train\\5\\db214.jpg\")\n",
    "x=img_to_array(img)\n",
    "x=x.reshape((1,) + x.shape)\n",
    "\n",
    "\n",
    "i=0\n",
    "for batch in datagen.flow(x, batch_size=1, save_to_dir='Augmentations', save_format='jpg'): \n",
    "    i += 1\n",
    "    if i > 20:\n",
    "        break\n",
    "# create a folder called augmentations to store the augmented images.        "
   ]
  },
  {
   "cell_type": "code",
   "execution_count": null,
   "metadata": {},
   "outputs": [],
   "source": []
  }
 ],
 "metadata": {
  "kernelspec": {
   "display_name": "Python 3",
   "language": "python",
   "name": "python3"
  },
  "language_info": {
   "codemirror_mode": {
    "name": "ipython",
    "version": 3
   },
   "file_extension": ".py",
   "mimetype": "text/x-python",
   "name": "python",
   "nbconvert_exporter": "python",
   "pygments_lexer": "ipython3",
   "version": "3.8.5"
  }
 },
 "nbformat": 4,
 "nbformat_minor": 4
}
